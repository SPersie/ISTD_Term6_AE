{
 "cells": [
  {
   "cell_type": "code",
   "execution_count": 1,
   "metadata": {},
   "outputs": [
    {
     "data": {
      "text/latex": [
       "$$ \\begin{alignat*}{1}\\min\\quad & 0\\\\\n",
       "\\text{Subject to} \\quad\\end{alignat*}\n",
       " $$"
      ],
      "text/plain": [
       "Feasibility problem with:\n",
       " * 0 linear constraints\n",
       " * 0 variables\n",
       "Solver is Ipopt"
      ]
     },
     "execution_count": 1,
     "metadata": {},
     "output_type": "execute_result"
    }
   ],
   "source": [
    "#LOAD PACKAGES\n",
    "#-------------\n",
    "using JuMP  # Need to say it whenever we use JuMP\n",
    "using Ipopt # Loading the Ipopt solver for nonlinear programs \n",
    "\n",
    "#MODEL CONSTRUCTION\n",
    "#------------------\n",
    "model1 = Model(solver=IpoptSolver())"
   ]
  },
  {
   "cell_type": "code",
   "execution_count": 2,
   "metadata": {},
   "outputs": [
    {
     "data": {
      "text/plain": [
       "1×20 Array{Int64,2}:\n",
       " 34  35  33  32  35  31  34  35  34  …  32  30  34  33  30  32  35  30  33"
      ]
     },
     "execution_count": 2,
     "metadata": {},
     "output_type": "execute_result"
    }
   ],
   "source": [
    "#INPUT DATA\n",
    "#----------\n",
    "\n",
    "# Number of decision variables (i.e., prices to set)\n",
    "n = 20\n",
    "\n",
    "# Parameters\n",
    "valuation = [46.7 46.5 46.9 43.8 48.8 42.7 46.4 39.8 37.6 33.5 27.5 35.4 33.5 37.6 40.8 35.2 38.7 42.3 36.8 41.8]\n",
    "# baseprice = [45.5 46 45 43 47 42 45 39 37 33 27 35 33 37 39 35 38 41 36 40]\n",
    "cost      = [34 35 33 32 35 31 34 35 34 29 24 32 30 34 33 30 32 35 30 33]"
   ]
  },
  {
   "cell_type": "code",
   "execution_count": 3,
   "metadata": {},
   "outputs": [
    {
     "data": {
      "text/latex": [
       "$$ x_{i} \\geq 0 \\quad\\forall i \\in \\{0,1,\\dots,19,20\\} $$"
      ],
      "text/plain": [
       "x[i] ≥ 0 ∀ i ∈ {0,1,…,19,20}"
      ]
     },
     "execution_count": 3,
     "metadata": {},
     "output_type": "execute_result"
    }
   ],
   "source": [
    "#VARIABLES\n",
    "#---------\n",
    "\n",
    "# We have n (20) continuous decision variables\n",
    "@variable(model1,x[0:n]>=0)"
   ]
  },
  {
   "cell_type": "code",
   "execution_count": 4,
   "metadata": {},
   "outputs": [
    {
     "data": {
      "text/latex": [
       "$$ x_{0} + x_{1} + x_{2} + x_{3} + x_{4} + x_{5} + x_{6} + x_{7} + x_{8} + x_{9} + x_{10} + x_{11} + x_{12} + x_{13} + x_{14} + x_{15} + x_{16} + x_{17} + x_{18} + x_{19} + x_{20} = 1 $$"
      ],
      "text/plain": [
       "x[0] + x[1] + x[2] + x[3] + x[4] + x[5] + x[6] + x[7] + x[8] + x[9] + x[10] + x[11] + x[12] + x[13] + x[14] + x[15] + x[16] + x[17] + x[18] + x[19] + x[20] = 1"
      ]
     },
     "execution_count": 4,
     "metadata": {},
     "output_type": "execute_result"
    }
   ],
   "source": [
    "#CONSTRAINTS\n",
    "#-----------\n",
    "\n",
    "# ...\n",
    "@constraint(model1,sum(x)==1)"
   ]
  },
  {
   "cell_type": "code",
   "execution_count": 2,
   "metadata": {
    "scrolled": true
   },
   "outputs": [
    {
     "ename": "UndefVarError",
     "evalue": "UndefVarError: x not defined",
     "output_type": "error",
     "traceback": [
      "UndefVarError: x not defined",
      "",
      "Stacktrace:",
      " [1] top-level scope at /Users/stefano_galelli/.julia/packages/JuMP/Xvn0n/src/parsenlp.jl:249"
     ]
    }
   ],
   "source": [
    "#OBJECTIVE\n",
    "#---------\n",
    "\n",
    "# Objective function\n",
    "@NLobjective(...)\n",
    "\n",
    "#PRINT THE MODEL IN A HUMAN-READABLE FORMAT\n",
    "#------------------------------------------\n",
    "println(\"The optimization problem to be solved is:\")\n",
    "print(model1) # Shows the model constructed in a human-readable form"
   ]
  },
  {
   "cell_type": "code",
   "execution_count": 3,
   "metadata": {},
   "outputs": [
    {
     "ename": "ErrorException",
     "evalue": "IPOPT: Failed to construct problem.",
     "output_type": "error",
     "traceback": [
      "IPOPT: Failed to construct problem.",
      "",
      "Stacktrace:",
      " [1] error(::String) at ./error.jl:33",
      " [2] createProblem(::Int64, ::Array{Float64,1}, ::Array{Float64,1}, ::Int64, ::Array{Float64,1}, ::Array{Float64,1}, ::Int64, ::Int64, ::getfield(Ipopt, Symbol(\"#eval_f_cb#6\")){JuMP.NLPEvaluator}, ::getfield(Ipopt, Symbol(\"#eval_g_cb#8\")){JuMP.NLPEvaluator}, ::getfield(Ipopt, Symbol(\"#eval_grad_f_cb#7\")){JuMP.NLPEvaluator}, ::getfield(Ipopt, Symbol(\"#eval_jac_g_cb#9\")){JuMP.NLPEvaluator}, ::getfield(Ipopt, Symbol(\"#eval_h_cb#10\")){JuMP.NLPEvaluator}) at /Users/stefano_galelli/.julia/packages/Ipopt/45sRy/src/Ipopt.jl:211",
      " [3] loadproblem!(::Ipopt.IpoptMathProgModel, ::Int64, ::Int64, ::Array{Float64,1}, ::Array{Float64,1}, ::Array{Float64,1}, ::Array{Float64,1}, ::Symbol, ::JuMP.NLPEvaluator) at /Users/stefano_galelli/.julia/packages/Ipopt/45sRy/src/MPBWrapper.jl:106",
      " [4] _buildInternalModel_nlp(::Model, ::JuMP.ProblemTraits) at /Users/stefano_galelli/.julia/packages/JuMP/Xvn0n/src/nlp.jl:1244",
      " [5] #build#123(::Bool, ::Bool, ::JuMP.ProblemTraits, ::Function, ::Model) at /Users/stefano_galelli/.julia/packages/JuMP/Xvn0n/src/solvers.jl:304",
      " [6] #build at ./none:0 [inlined]",
      " [7] #solve#120(::Bool, ::Bool, ::Bool, ::Base.Iterators.Pairs{Union{},Union{},Tuple{},NamedTuple{(),Tuple{}}}, ::Function, ::Model) at /Users/stefano_galelli/.julia/packages/JuMP/Xvn0n/src/solvers.jl:168",
      " [8] solve(::Model) at /Users/stefano_galelli/.julia/packages/JuMP/Xvn0n/src/solvers.jl:150",
      " [9] top-level scope at In[3]:1"
     ]
    }
   ],
   "source": [
    "#SOLVE IT\n",
    "#--------\n",
    "\n",
    "status = solve(model1) # solves the model  "
   ]
  },
  {
   "cell_type": "code",
   "execution_count": 4,
   "metadata": {},
   "outputs": [
    {
     "name": "stdout",
     "output_type": "stream",
     "text": [
      "Objective value: 0\n"
     ]
    },
    {
     "ename": "UndefVarError",
     "evalue": "UndefVarError: x not defined",
     "output_type": "error",
     "traceback": [
      "UndefVarError: x not defined",
      "",
      "Stacktrace:",
      " [1] top-level scope at In[4]:5"
     ]
    }
   ],
   "source": [
    "#DISPLAY THE RESULTS\n",
    "#-------------------\n",
    "\n",
    "println(\"Objective value: \", getobjectivevalue(model1)) \n",
    "println(\"x = \", getvalue(x)) \n",
    "for i = 1:n\n",
    "   println(valuation[i]-log(getvalue(x[i]))+log(getvalue(x[0])))\n",
    "end "
   ]
  }
 ],
 "metadata": {
  "kernelspec": {
   "display_name": "Julia 1.0.1",
   "language": "julia",
   "name": "julia-1.0"
  },
  "language_info": {
   "file_extension": ".jl",
   "mimetype": "application/julia",
   "name": "julia",
   "version": "1.0.1"
  }
 },
 "nbformat": 4,
 "nbformat_minor": 2
}
